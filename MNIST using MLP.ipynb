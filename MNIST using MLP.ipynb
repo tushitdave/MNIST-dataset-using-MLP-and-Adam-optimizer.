{
  "nbformat": 4,
  "nbformat_minor": 0,
  "metadata": {
    "colab": {
      "name": "Untitled22.ipynb",
      "provenance": [],
      "collapsed_sections": []
    },
    "kernelspec": {
      "name": "python3",
      "display_name": "Python 3"
    }
  },
  "cells": [
    {
      "cell_type": "code",
      "metadata": {
        "id": "L7jVQ0xR3odU",
        "colab_type": "code",
        "colab": {}
      },
      "source": [
        "from mlxtend.data import mnist_data\n",
        "from mlxtend.preprocessing import shuffle_arrays_unison\n",
        "\n",
        "X, y = mnist_data()\n",
        "X, y = shuffle_arrays_unison((X, y), random_seed=1)\n",
        "X_train, y_train = X[:500], y[:500]\n",
        "X_test, y_test = X[500:], y[500:]"
      ],
      "execution_count": 0,
      "outputs": []
    },
    {
      "cell_type": "code",
      "metadata": {
        "id": "CesnZ80N3ukR",
        "colab_type": "code",
        "colab": {
          "base_uri": "https://localhost:8080/",
          "height": 281
        },
        "outputId": "0e8e34c9-fc5f-4d24-b560-7132d3b26253"
      },
      "source": [
        "import matplotlib.pyplot as plt\n",
        "\n",
        "def plot_digit(X, y, idx):\n",
        "    img = X[idx].reshape(28,28)\n",
        "    plt.imshow(img, cmap='Greys',  interpolation='nearest')\n",
        "    plt.title('true label: %d' % y[idx])\n",
        "    plt.show()\n",
        "\n",
        "plot_digit(X, y, 3500)  "
      ],
      "execution_count": 2,
      "outputs": [
        {
          "output_type": "display_data",
          "data": {
            "image/png": "[encoded data removed]",
            "text/plain": [
              "<Figure size 432x288 with 1 Axes>"
            ]
          },
          "metadata": {
            "tags": []
          }
        }
      ]
    },
    {
      "cell_type": "code",
      "metadata": {
        "id": "0ZaQ8sSP3y5J",
        "colab_type": "code",
        "colab": {}
      },
      "source": [
        "import numpy as np\n",
        "from mlxtend.preprocessing import standardize\n",
        "\n",
        "X_train_std, params = standardize(X_train, \n",
        "                                  columns=range(X_train.shape[1]), \n",
        "                                  return_params=True)\n",
        "\n",
        "X_test_std = standardize(X_test,\n",
        "                         columns=range(X_test.shape[1]),\n",
        "                         params=params)"
      ],
      "execution_count": 0,
      "outputs": []
    },
    {
      "cell_type": "code",
      "metadata": {
        "id": "cICY_T9K3-Iy",
        "colab_type": "code",
        "colab": {
          "base_uri": "https://localhost:8080/",
          "height": 70
        },
        "outputId": "d5744730-bab7-4bce-d7cc-ae29dc568b8b"
      },
      "source": [
        "from mlxtend.classifier import MultiLayerPerceptron as MLP\n",
        "nn1 = MLP(hidden_layers=[150], \n",
        "          l2=0.00, \n",
        "          l1=0.0, \n",
        "          epochs=100, \n",
        "          eta=0.005, \n",
        "          momentum=0.0,\n",
        "          decrease_const=0.0,\n",
        "          minibatches=100, \n",
        "          random_seed=1,\n",
        "          print_progress=3)"
      ],
      "execution_count": 5,
      "outputs": [
        {
          "output_type": "stream",
          "text": [
            "/usr/local/lib/python3.6/dist-packages/sklearn/externals/six.py:31: DeprecationWarning: The module is deprecated in version 0.21 and will be removed in version 0.23 since we've dropped support for Python 2.7. Please rely on the official version of six (https://pypi.org/project/six/).\n",
            "  \"(https://pypi.org/project/six/).\", DeprecationWarning)\n"
          ],
          "name": "stderr"
        }
      ]
    },
    {
      "cell_type": "code",
      "metadata": {
        "id": "Kgq4kfQC4H1A",
        "colab_type": "code",
        "colab": {
          "base_uri": "https://localhost:8080/",
          "height": 354
        },
        "outputId": "3c9cffe7-6629-4351-a5ba-3f22c618f513"
      },
      "source": [
        "import matplotlib.pyplot as plt\n",
        "\n",
        "nn1.fit(X_train_std, y_train)\n",
        "\n",
        "plt.plot(range(len(nn1.cost_)), nn1.cost_)\n",
        "plt.ylabel('Cost')\n",
        "plt.xlabel('Epochs')\n",
        "plt.show()"
      ],
      "execution_count": 6,
      "outputs": [
        {
          "output_type": "stream",
          "text": [
            "/usr/local/lib/python3.6/dist-packages/mlxtend/_base/_classifier.py:19: FutureWarning: Conversion of the second argument of issubdtype from `int` to `np.signedinteger` is deprecated. In future, it will be treated as `np.int64 == np.dtype(int).type`.\n",
            "  if not np.issubdtype(y[0], int):\n",
            "Iteration: 100/100 | Cost 0.01 | Elapsed: 0:00:19 | ETA: 0:00:00"
          ],
          "name": "stderr"
        },
        {
          "output_type": "display_data",
          "data": {
            "image/png": "[encoded data removed]",
            "text/plain": [
              "<Figure size 432x288 with 1 Axes>"
            ]
          },
          "metadata": {
            "tags": []
          }
        }
      ]
    },
    {
      "cell_type": "code",
      "metadata": {
        "id": "Jm2ZlXl84NGA",
        "colab_type": "code",
        "colab": {
          "base_uri": "https://localhost:8080/",
          "height": 50
        },
        "outputId": "6ccc064d-ed3d-4c4b-92a1-62cdd8b877bf"
      },
      "source": [
        "print('Train Accuracy: %.2f%%' % (100 * nn1.score(X_train_std, y_train)))\n",
        "print('Test Accuracy: %.2f%%' % (100 * nn1.score(X_test_std, y_test)))"
      ],
      "execution_count": 7,
      "outputs": [
        {
          "output_type": "stream",
          "text": [
            "Train Accuracy: 100.00%\n",
            "Test Accuracy: 84.62%\n"
          ],
          "name": "stdout"
        }
      ]
    }
  ]
}